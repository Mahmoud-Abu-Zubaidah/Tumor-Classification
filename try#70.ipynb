{
 "cells": [
  {
   "cell_type": "code",
   "execution_count": 2,
   "metadata": {
    "id": "2O-eRPNlVH-y"
   },
   "outputs": [],
   "source": [
    "import matplotlib.pyplot as plt\n",
    "from sklearn.model_selection import train_test_split\n",
    "from skimage import io, transform, color\n",
    "from skimage.feature import hog\n",
    "import glob     \n",
    "import numpy as np\n",
    "import pandas as pd\n",
    "import seaborn as sns\n",
    "from PIL import Image\n",
    "import os\n",
    "from sklearn.decomposition import PCA\n",
    "from sklearn.svm import SVC\n",
    "from sklearn.metrics import accuracy_score, confusion_matrix, classification_report\n",
    "from sklearn.model_selection import GridSearchCV\n",
    "from tqdm import tqdm\n",
    "import cv2\n",
    "import os\n",
    "from sklearn.decomposition import PCA\n",
    "from sklearn.svm import SVC\n",
    "from sklearn.metrics import accuracy_score, confusion_matrix, classification_report\n",
    "from sklearn.model_selection import GridSearchCV\n",
    "from tqdm import tqdm\n",
    "import cv2\n",
    "import shutil"
   ]
  },
  {
   "cell_type": "code",
   "execution_count": 3,
   "metadata": {
    "id": "v94shgk3WmmN"
   },
   "outputs": [],
   "source": [
    "train  = pd.read_csv('trainset.csv')\n",
    "test   = pd.read_csv('testset.csv')"
   ]
  },
  {
   "cell_type": "code",
   "execution_count": 10,
   "metadata": {
    "id": "GHbXiVzfX2vj"
   },
   "outputs": [],
   "source": [
    "imgs= os.listdir('Tumor\\\\images\\\\images')\n",
    "id_train = dict(zip(train['Id'], train['Class']))"
   ]
  },
  {
   "cell_type": "code",
   "execution_count": null,
   "metadata": {},
   "outputs": [],
   "source": [
    "ids"
   ]
  },
  {
   "cell_type": "code",
   "execution_count": 11,
   "metadata": {
    "id": "ij-LKynBYEql"
   },
   "outputs": [],
   "source": [
    "# create a list for both images and labels\n",
    "images_train = []\n",
    "labels_train = []"
   ]
  },
  {
   "cell_type": "code",
   "execution_count": null,
   "metadata": {
    "colab": {
     "base_uri": "https://localhost:8080/"
    },
    "id": "2dTH7WI3XLPb",
    "outputId": "9e8393a8-58c1-4341-942e-f512af470b49"
   },
   "outputs": [],
   "source": [
    "for index, row in train.iterrows():\n",
    "  im_id = row['Id']\n",
    "  if im_id in id_train :\n",
    "    label = id_train [im_id]\n",
    "    images_train = os.path.join(imgs, f\"{im_id}.png\")\n",
    "    if os.path.exists(image_path):  # Check if the image file exists\n",
    "        image = cv2.imread(image_path)  # Load the image using cv2\n",
    "\n",
    "        if image is not None:  # Check if the image was loaded successfully\n",
    "            images_train.append(image)\n",
    "            labels_train.append(label)\n",
    "\n",
    "train_data= np.array(images_train)\n",
    "train_label = np.array(labels_train)"
   ]
  },
  {
   "cell_type": "code",
   "execution_count": 10,
   "metadata": {
    "id": "ssxKiMhxYYV_"
   },
   "outputs": [],
   "source": [
    "# Get the image IDs from the test CSV\n",
    "test_id = list(test['Id'])"
   ]
  },
  {
   "cell_type": "code",
   "execution_count": 11,
   "metadata": {
    "colab": {
     "base_uri": "https://localhost:8080/"
    },
    "id": "duGyAmvgY2-1",
    "outputId": "93d1fd70-46a1-4938-be84-ee140fda37d5"
   },
   "outputs": [
    {
     "name": "stderr",
     "output_type": "stream",
     "text": [
      "<ipython-input-11-b37ddeeeb83b>:12: VisibleDeprecationWarning: Creating an ndarray from ragged nested sequences (which is a list-or-tuple of lists-or-tuples-or ndarrays with different lengths or shapes) is deprecated. If you meant to do this, you must specify 'dtype=object' when creating the ndarray.\n",
      "  test_data = np.array(image_test)\n"
     ]
    }
   ],
   "source": [
    "image_test = []\n",
    "for index, row in test.iterrows():\n",
    "  image_id = row['Id']\n",
    "  if image_id in test_id:\n",
    "    image_path = os.path.join(image_folder, f\"{image_id}.png\")\n",
    "    # Check if the image file exists\n",
    "    if os.path.exists(image_path):\n",
    "      # Load the image using cv2\n",
    "      image = cv2.imread(image_path)\n",
    "      image_test.append(image)\n",
    "\n",
    "test_data = np.array(image_test)"
   ]
  },
  {
   "cell_type": "markdown",
   "metadata": {
    "id": "WtYqq9D_a5Ut"
   },
   "source": [
    "# resize the images"
   ]
  },
  {
   "cell_type": "code",
   "execution_count": 12,
   "metadata": {
    "id": "17MVIfokazZZ"
   },
   "outputs": [],
   "source": [
    "# train images\n",
    "\n",
    "target_size = (200, 200)  # Replace with your desired target size\n",
    "\n",
    "# Initialize an empty list to store resized images\n",
    "resized_images = []\n",
    "\n",
    "# Loop through each image in X_train and resize\n",
    "for image in train_data:\n",
    "    resized_image = cv2.resize(image, target_size)\n",
    "    resized_images.append(resized_image)\n",
    "\n",
    "# Convert the list of resized images back to a NumPy array\n",
    "resized_train = np.array(resized_images)"
   ]
  },
  {
   "cell_type": "code",
   "execution_count": 13,
   "metadata": {
    "id": "wpoZ9BnnbHj4"
   },
   "outputs": [],
   "source": [
    "# test images\n",
    "\n",
    "target_size = (200, 200)  # Replace with your desired target size\n",
    "\n",
    "# Initialize an empty list to store resized images\n",
    "resized_images = []\n",
    "\n",
    "# Loop through each image in X_train and resize\n",
    "for image in test_data:\n",
    "    resized_image = cv2.resize(image, target_size)\n",
    "    resized_images.append(resized_image)\n",
    "\n",
    "# Convert the list of resized images back to a NumPy array\n",
    "resized_test = np.array(resized_images)"
   ]
  },
  {
   "cell_type": "code",
   "execution_count": 14,
   "metadata": {
    "colab": {
     "base_uri": "https://localhost:8080/"
    },
    "id": "Ar0G0F7AbbOR",
    "outputId": "486a776f-f01e-4488-a8ef-e317f869c6cf"
   },
   "outputs": [
    {
     "data": {
      "text/plain": [
       "((539, 200, 200, 3), (229, 200, 200, 3))"
      ]
     },
     "execution_count": 14,
     "metadata": {},
     "output_type": "execute_result"
    }
   ],
   "source": [
    "resized_train.shape, resized_test.shape"
   ]
  },
  {
   "cell_type": "markdown",
   "metadata": {
    "id": "XfhGXWMfkbI_"
   },
   "source": [
    "# Normalize images"
   ]
  },
  {
   "cell_type": "code",
   "execution_count": 15,
   "metadata": {
    "id": "jwmgRcC6kb40"
   },
   "outputs": [],
   "source": [
    "resized_train = resized_train/255\n",
    "\n",
    "resized_test = resized_test/255"
   ]
  },
  {
   "cell_type": "code",
   "execution_count": null,
   "metadata": {
    "id": "xv_Jv4wERGth"
   },
   "outputs": [],
   "source": []
  },
  {
   "cell_type": "code",
   "execution_count": 16,
   "metadata": {
    "id": "ij3CHXmDcQYF"
   },
   "outputs": [],
   "source": [
    "train_flatten = resized_train.reshape(resized_train.shape[0], -1)\n",
    "test_flatten = resized_test.reshape(resized_test.shape[0], -1)"
   ]
  },
  {
   "cell_type": "code",
   "execution_count": 17,
   "metadata": {
    "colab": {
     "base_uri": "https://localhost:8080/"
    },
    "id": "MPbTUyZOcu6n",
    "outputId": "f32b7f37-45ae-49c9-cab7-c20d494db99d"
   },
   "outputs": [
    {
     "data": {
      "text/plain": [
       "((539, 120000), (229, 120000))"
      ]
     },
     "execution_count": 17,
     "metadata": {},
     "output_type": "execute_result"
    }
   ],
   "source": [
    "train_flatten.shape, test_flatten.shape"
   ]
  },
  {
   "cell_type": "code",
   "execution_count": 18,
   "metadata": {
    "id": "0D1ZKBNUdLb-"
   },
   "outputs": [],
   "source": [
    "# Convert feature list to numpy array\n",
    "train_features = np.array(train_flatten)\n",
    "\n",
    "# Convert feature list to numpy array\n",
    "test_features = np.array(test_flatten)"
   ]
  },
  {
   "cell_type": "code",
   "execution_count": 37,
   "metadata": {
    "id": "B7w2sqvmHp2V"
   },
   "outputs": [],
   "source": [
    "from imblearn.over_sampling import SMOTE\n",
    "\n",
    "smote = SMOTE(random_state=42,k_neighbors=10,  sampling_strategy='auto')\n",
    "smote.fit(train_features, train_label)\n",
    "X_resampled, y_resampled = smote.fit_resample(train_features, train_label)\n"
   ]
  },
  {
   "cell_type": "code",
   "execution_count": 38,
   "metadata": {
    "id": "ApBu4PKSd2XN"
   },
   "outputs": [],
   "source": [
    "# Split data into train and test sets\n",
    "X_train, X_test, y_train, y_test = train_test_split(X_resampled, y_resampled  , test_size=0.2, random_state=42)"
   ]
  },
  {
   "cell_type": "code",
   "execution_count": 39,
   "metadata": {
    "colab": {
     "base_uri": "https://localhost:8080/"
    },
    "id": "POWIYUVjeZxB",
    "outputId": "3090dd2b-86ee-4e9e-ffd8-43d186e646e7"
   },
   "outputs": [
    {
     "data": {
      "text/plain": [
       "((720, 120000), (180, 120000), (720,), (180,))"
      ]
     },
     "execution_count": 39,
     "metadata": {},
     "output_type": "execute_result"
    }
   ],
   "source": [
    "X_train.shape, X_test.shape, y_train.shape, y_test.shape"
   ]
  },
  {
   "cell_type": "code",
   "execution_count": 40,
   "metadata": {
    "id": "xl5hNoJKdiSz"
   },
   "outputs": [],
   "source": [
    "pca = PCA(n_components=150 )  # You can adjust the number of components\n",
    "X_train_pca = pca.fit_transform(X_train)\n",
    "X_test_pca = pca.transform(X_test)\n"
   ]
  },
  {
   "cell_type": "code",
   "execution_count": 29,
   "metadata": {
    "colab": {
     "base_uri": "https://localhost:8080/"
    },
    "id": "s2j2Ry_temqU",
    "outputId": "94aa88c5-360a-4630-d4d8-1f77914cb3be"
   },
   "outputs": [
    {
     "data": {
      "text/plain": [
       "((720, 150), (180, 150))"
      ]
     },
     "execution_count": 29,
     "metadata": {},
     "output_type": "execute_result"
    }
   ],
   "source": [
    "X_train_pca.shape, X_test_pca.shape"
   ]
  },
  {
   "cell_type": "markdown",
   "metadata": {
    "id": "XLJSt62KexP0"
   },
   "source": [
    "# **Modeling**"
   ]
  },
  {
   "cell_type": "code",
   "execution_count": 30,
   "metadata": {
    "colab": {
     "base_uri": "https://localhost:8080/"
    },
    "id": "6ZwBMGhHeuiS",
    "outputId": "5cd44171-f157-4fe4-93d5-fd98026796d8"
   },
   "outputs": [
    {
     "name": "stdout",
     "output_type": "stream",
     "text": [
      "Accuracy2: 0.8777777777777778\n",
      "Confusion Matrix1:\n",
      " [[49  2  3]\n",
      " [12 53  0]\n",
      " [ 4  1 56]]\n",
      "Classification Report:\n",
      "               precision    recall  f1-score   support\n",
      "\n",
      "      Benign       0.75      0.91      0.82        54\n",
      "   Malignant       0.95      0.82      0.88        65\n",
      "      Normal       0.95      0.92      0.93        61\n",
      "\n",
      "    accuracy                           0.88       180\n",
      "   macro avg       0.88      0.88      0.88       180\n",
      "weighted avg       0.89      0.88      0.88       180\n",
      "\n"
     ]
    }
   ],
   "source": [
    "svm_classifier = SVC(kernel='rbf', C=3, gamma=0.001)\n",
    "svm_classifier.fit(X_train_pca, y_train)\n",
    "\n",
    "# Make predictions\n",
    "y_pred1 = svm_classifier.predict(X_train_pca)\n",
    "y_pred2 = svm_classifier.predict(X_test_pca)\n",
    "\n",
    "\n",
    "accuracy2 = accuracy_score(y_test, y_pred2)\n",
    "\n",
    "\n",
    "print(\"Accuracy2:\", accuracy2)\n",
    "\n",
    "# Calculate confusion matrix\n",
    "conf_matrix2 = confusion_matrix(y_test, y_pred2)\n",
    "print(\"Confusion Matrix1:\\n\", conf_matrix2)\n",
    "\n",
    "# Generate classification report\n",
    "class_report2 = classification_report(y_test, y_pred2)\n",
    "print(\"Classification Report:\\n\", class_report2)"
   ]
  },
  {
   "cell_type": "code",
   "execution_count": 31,
   "metadata": {
    "id": "E7sj4UpUgu_Z"
   },
   "outputs": [],
   "source": [
    "X_test_pca = pca.transform(test_features)\n",
    "predictions = svm_classifier.predict(X_test_pca)"
   ]
  },
  {
   "cell_type": "code",
   "execution_count": 32,
   "metadata": {
    "colab": {
     "base_uri": "https://localhost:8080/"
    },
    "id": "RthDI0EHg9FM",
    "outputId": "b355d992-fe5d-40e6-be6b-adcd3b9bc14e"
   },
   "outputs": [
    {
     "data": {
      "text/plain": [
       "Benign       156\n",
       "Malignant     46\n",
       "Normal        27\n",
       "Name: labels, dtype: int64"
      ]
     },
     "execution_count": 32,
     "metadata": {},
     "output_type": "execute_result"
    }
   ],
   "source": [
    "test['labels'] =predictions\n",
    "test['labels'].value_counts()"
   ]
  },
  {
   "cell_type": "code",
   "execution_count": 33,
   "metadata": {
    "colab": {
     "base_uri": "https://localhost:8080/",
     "height": 424
    },
    "id": "-qdUavqwhDEH",
    "outputId": "77d766b6-1122-447e-9b32-59439c190d2a"
   },
   "outputs": [
    {
     "data": {
      "text/html": [
       "\n",
       "  <div id=\"df-989c5145-df68-42af-a8d4-ffa96fa37321\" class=\"colab-df-container\">\n",
       "    <div>\n",
       "<style scoped>\n",
       "    .dataframe tbody tr th:only-of-type {\n",
       "        vertical-align: middle;\n",
       "    }\n",
       "\n",
       "    .dataframe tbody tr th {\n",
       "        vertical-align: top;\n",
       "    }\n",
       "\n",
       "    .dataframe thead th {\n",
       "        text-align: right;\n",
       "    }\n",
       "</style>\n",
       "<table border=\"1\" class=\"dataframe\">\n",
       "  <thead>\n",
       "    <tr style=\"text-align: right;\">\n",
       "      <th></th>\n",
       "      <th>Id</th>\n",
       "      <th>Class</th>\n",
       "    </tr>\n",
       "  </thead>\n",
       "  <tbody>\n",
       "    <tr>\n",
       "      <th>0</th>\n",
       "      <td>8560</td>\n",
       "      <td>A</td>\n",
       "    </tr>\n",
       "    <tr>\n",
       "      <th>1</th>\n",
       "      <td>7920</td>\n",
       "      <td>A</td>\n",
       "    </tr>\n",
       "    <tr>\n",
       "      <th>2</th>\n",
       "      <td>8993</td>\n",
       "      <td>A</td>\n",
       "    </tr>\n",
       "    <tr>\n",
       "      <th>3</th>\n",
       "      <td>8126</td>\n",
       "      <td>A</td>\n",
       "    </tr>\n",
       "    <tr>\n",
       "      <th>4</th>\n",
       "      <td>9912</td>\n",
       "      <td>A</td>\n",
       "    </tr>\n",
       "    <tr>\n",
       "      <th>...</th>\n",
       "      <td>...</td>\n",
       "      <td>...</td>\n",
       "    </tr>\n",
       "    <tr>\n",
       "      <th>224</th>\n",
       "      <td>8343</td>\n",
       "      <td>A</td>\n",
       "    </tr>\n",
       "    <tr>\n",
       "      <th>225</th>\n",
       "      <td>1255</td>\n",
       "      <td>A</td>\n",
       "    </tr>\n",
       "    <tr>\n",
       "      <th>226</th>\n",
       "      <td>4573</td>\n",
       "      <td>A</td>\n",
       "    </tr>\n",
       "    <tr>\n",
       "      <th>227</th>\n",
       "      <td>3919</td>\n",
       "      <td>A</td>\n",
       "    </tr>\n",
       "    <tr>\n",
       "      <th>228</th>\n",
       "      <td>3249</td>\n",
       "      <td>A</td>\n",
       "    </tr>\n",
       "  </tbody>\n",
       "</table>\n",
       "<p>229 rows × 2 columns</p>\n",
       "</div>\n",
       "    <div class=\"colab-df-buttons\">\n",
       "\n",
       "  <div class=\"colab-df-container\">\n",
       "    <button class=\"colab-df-convert\" onclick=\"convertToInteractive('df-989c5145-df68-42af-a8d4-ffa96fa37321')\"\n",
       "            title=\"Convert this dataframe to an interactive table.\"\n",
       "            style=\"display:none;\">\n",
       "\n",
       "  <svg xmlns=\"http://www.w3.org/2000/svg\" height=\"24px\" viewBox=\"0 -960 960 960\">\n",
       "    <path d=\"M120-120v-720h720v720H120Zm60-500h600v-160H180v160Zm220 220h160v-160H400v160Zm0 220h160v-160H400v160ZM180-400h160v-160H180v160Zm440 0h160v-160H620v160ZM180-180h160v-160H180v160Zm440 0h160v-160H620v160Z\"/>\n",
       "  </svg>\n",
       "    </button>\n",
       "\n",
       "  <style>\n",
       "    .colab-df-container {\n",
       "      display:flex;\n",
       "      gap: 12px;\n",
       "    }\n",
       "\n",
       "    .colab-df-convert {\n",
       "      background-color: #E8F0FE;\n",
       "      border: none;\n",
       "      border-radius: 50%;\n",
       "      cursor: pointer;\n",
       "      display: none;\n",
       "      fill: #1967D2;\n",
       "      height: 32px;\n",
       "      padding: 0 0 0 0;\n",
       "      width: 32px;\n",
       "    }\n",
       "\n",
       "    .colab-df-convert:hover {\n",
       "      background-color: #E2EBFA;\n",
       "      box-shadow: 0px 1px 2px rgba(60, 64, 67, 0.3), 0px 1px 3px 1px rgba(60, 64, 67, 0.15);\n",
       "      fill: #174EA6;\n",
       "    }\n",
       "\n",
       "    .colab-df-buttons div {\n",
       "      margin-bottom: 4px;\n",
       "    }\n",
       "\n",
       "    [theme=dark] .colab-df-convert {\n",
       "      background-color: #3B4455;\n",
       "      fill: #D2E3FC;\n",
       "    }\n",
       "\n",
       "    [theme=dark] .colab-df-convert:hover {\n",
       "      background-color: #434B5C;\n",
       "      box-shadow: 0px 1px 3px 1px rgba(0, 0, 0, 0.15);\n",
       "      filter: drop-shadow(0px 1px 2px rgba(0, 0, 0, 0.3));\n",
       "      fill: #FFFFFF;\n",
       "    }\n",
       "  </style>\n",
       "\n",
       "    <script>\n",
       "      const buttonEl =\n",
       "        document.querySelector('#df-989c5145-df68-42af-a8d4-ffa96fa37321 button.colab-df-convert');\n",
       "      buttonEl.style.display =\n",
       "        google.colab.kernel.accessAllowed ? 'block' : 'none';\n",
       "\n",
       "      async function convertToInteractive(key) {\n",
       "        const element = document.querySelector('#df-989c5145-df68-42af-a8d4-ffa96fa37321');\n",
       "        const dataTable =\n",
       "          await google.colab.kernel.invokeFunction('convertToInteractive',\n",
       "                                                    [key], {});\n",
       "        if (!dataTable) return;\n",
       "\n",
       "        const docLinkHtml = 'Like what you see? Visit the ' +\n",
       "          '<a target=\"_blank\" href=https://colab.research.google.com/notebooks/data_table.ipynb>data table notebook</a>'\n",
       "          + ' to learn more about interactive tables.';\n",
       "        element.innerHTML = '';\n",
       "        dataTable['output_type'] = 'display_data';\n",
       "        await google.colab.output.renderOutput(dataTable, element);\n",
       "        const docLink = document.createElement('div');\n",
       "        docLink.innerHTML = docLinkHtml;\n",
       "        element.appendChild(docLink);\n",
       "      }\n",
       "    </script>\n",
       "  </div>\n",
       "\n",
       "\n",
       "<div id=\"df-7081cc87-dde2-41da-bc2f-44cbc3070f92\">\n",
       "  <button class=\"colab-df-quickchart\" onclick=\"quickchart('df-7081cc87-dde2-41da-bc2f-44cbc3070f92')\"\n",
       "            title=\"Suggest charts.\"\n",
       "            style=\"display:none;\">\n",
       "\n",
       "<svg xmlns=\"http://www.w3.org/2000/svg\" height=\"24px\"viewBox=\"0 0 24 24\"\n",
       "     width=\"24px\">\n",
       "    <g>\n",
       "        <path d=\"M19 3H5c-1.1 0-2 .9-2 2v14c0 1.1.9 2 2 2h14c1.1 0 2-.9 2-2V5c0-1.1-.9-2-2-2zM9 17H7v-7h2v7zm4 0h-2V7h2v10zm4 0h-2v-4h2v4z\"/>\n",
       "    </g>\n",
       "</svg>\n",
       "  </button>\n",
       "\n",
       "<style>\n",
       "  .colab-df-quickchart {\n",
       "    background-color: #E8F0FE;\n",
       "    border: none;\n",
       "    border-radius: 50%;\n",
       "    cursor: pointer;\n",
       "    display: none;\n",
       "    fill: #1967D2;\n",
       "    height: 32px;\n",
       "    padding: 0 0 0 0;\n",
       "    width: 32px;\n",
       "  }\n",
       "\n",
       "  .colab-df-quickchart:hover {\n",
       "    background-color: #E2EBFA;\n",
       "    box-shadow: 0px 1px 2px rgba(60, 64, 67, 0.3), 0px 1px 3px 1px rgba(60, 64, 67, 0.15);\n",
       "    fill: #174EA6;\n",
       "  }\n",
       "\n",
       "  [theme=dark] .colab-df-quickchart {\n",
       "    background-color: #3B4455;\n",
       "    fill: #D2E3FC;\n",
       "  }\n",
       "\n",
       "  [theme=dark] .colab-df-quickchart:hover {\n",
       "    background-color: #434B5C;\n",
       "    box-shadow: 0px 1px 3px 1px rgba(0, 0, 0, 0.15);\n",
       "    filter: drop-shadow(0px 1px 2px rgba(0, 0, 0, 0.3));\n",
       "    fill: #FFFFFF;\n",
       "  }\n",
       "</style>\n",
       "\n",
       "  <script>\n",
       "    async function quickchart(key) {\n",
       "      const charts = await google.colab.kernel.invokeFunction(\n",
       "          'suggestCharts', [key], {});\n",
       "    }\n",
       "    (() => {\n",
       "      let quickchartButtonEl =\n",
       "        document.querySelector('#df-7081cc87-dde2-41da-bc2f-44cbc3070f92 button');\n",
       "      quickchartButtonEl.style.display =\n",
       "        google.colab.kernel.accessAllowed ? 'block' : 'none';\n",
       "    })();\n",
       "  </script>\n",
       "</div>\n",
       "    </div>\n",
       "  </div>\n"
      ],
      "text/plain": [
       "       Id Class\n",
       "0    8560     A\n",
       "1    7920     A\n",
       "2    8993     A\n",
       "3    8126     A\n",
       "4    9912     A\n",
       "..    ...   ...\n",
       "224  8343     A\n",
       "225  1255     A\n",
       "226  4573     A\n",
       "227  3919     A\n",
       "228  3249     A\n",
       "\n",
       "[229 rows x 2 columns]"
      ]
     },
     "execution_count": 33,
     "metadata": {},
     "output_type": "execute_result"
    }
   ],
   "source": [
    "submit = pd.read_csv('/content/sample_submition4.csv')\n",
    "submit"
   ]
  },
  {
   "cell_type": "code",
   "execution_count": 34,
   "metadata": {
    "colab": {
     "base_uri": "https://localhost:8080/",
     "height": 424
    },
    "id": "kDCifPalhGBt",
    "outputId": "1868099d-f3e4-4386-bb93-5aef3d8fc4fa"
   },
   "outputs": [
    {
     "data": {
      "text/html": [
       "\n",
       "  <div id=\"df-415353ca-605a-4328-a132-1df9fd1be572\" class=\"colab-df-container\">\n",
       "    <div>\n",
       "<style scoped>\n",
       "    .dataframe tbody tr th:only-of-type {\n",
       "        vertical-align: middle;\n",
       "    }\n",
       "\n",
       "    .dataframe tbody tr th {\n",
       "        vertical-align: top;\n",
       "    }\n",
       "\n",
       "    .dataframe thead th {\n",
       "        text-align: right;\n",
       "    }\n",
       "</style>\n",
       "<table border=\"1\" class=\"dataframe\">\n",
       "  <thead>\n",
       "    <tr style=\"text-align: right;\">\n",
       "      <th></th>\n",
       "      <th>Id</th>\n",
       "      <th>Class</th>\n",
       "    </tr>\n",
       "  </thead>\n",
       "  <tbody>\n",
       "    <tr>\n",
       "      <th>0</th>\n",
       "      <td>8560</td>\n",
       "      <td>Benign</td>\n",
       "    </tr>\n",
       "    <tr>\n",
       "      <th>1</th>\n",
       "      <td>7920</td>\n",
       "      <td>Benign</td>\n",
       "    </tr>\n",
       "    <tr>\n",
       "      <th>2</th>\n",
       "      <td>8993</td>\n",
       "      <td>Malignant</td>\n",
       "    </tr>\n",
       "    <tr>\n",
       "      <th>3</th>\n",
       "      <td>8126</td>\n",
       "      <td>Normal</td>\n",
       "    </tr>\n",
       "    <tr>\n",
       "      <th>4</th>\n",
       "      <td>9912</td>\n",
       "      <td>Benign</td>\n",
       "    </tr>\n",
       "    <tr>\n",
       "      <th>...</th>\n",
       "      <td>...</td>\n",
       "      <td>...</td>\n",
       "    </tr>\n",
       "    <tr>\n",
       "      <th>224</th>\n",
       "      <td>8343</td>\n",
       "      <td>Malignant</td>\n",
       "    </tr>\n",
       "    <tr>\n",
       "      <th>225</th>\n",
       "      <td>1255</td>\n",
       "      <td>Benign</td>\n",
       "    </tr>\n",
       "    <tr>\n",
       "      <th>226</th>\n",
       "      <td>4573</td>\n",
       "      <td>Benign</td>\n",
       "    </tr>\n",
       "    <tr>\n",
       "      <th>227</th>\n",
       "      <td>3919</td>\n",
       "      <td>Benign</td>\n",
       "    </tr>\n",
       "    <tr>\n",
       "      <th>228</th>\n",
       "      <td>3249</td>\n",
       "      <td>Benign</td>\n",
       "    </tr>\n",
       "  </tbody>\n",
       "</table>\n",
       "<p>229 rows × 2 columns</p>\n",
       "</div>\n",
       "    <div class=\"colab-df-buttons\">\n",
       "\n",
       "  <div class=\"colab-df-container\">\n",
       "    <button class=\"colab-df-convert\" onclick=\"convertToInteractive('df-415353ca-605a-4328-a132-1df9fd1be572')\"\n",
       "            title=\"Convert this dataframe to an interactive table.\"\n",
       "            style=\"display:none;\">\n",
       "\n",
       "  <svg xmlns=\"http://www.w3.org/2000/svg\" height=\"24px\" viewBox=\"0 -960 960 960\">\n",
       "    <path d=\"M120-120v-720h720v720H120Zm60-500h600v-160H180v160Zm220 220h160v-160H400v160Zm0 220h160v-160H400v160ZM180-400h160v-160H180v160Zm440 0h160v-160H620v160ZM180-180h160v-160H180v160Zm440 0h160v-160H620v160Z\"/>\n",
       "  </svg>\n",
       "    </button>\n",
       "\n",
       "  <style>\n",
       "    .colab-df-container {\n",
       "      display:flex;\n",
       "      gap: 12px;\n",
       "    }\n",
       "\n",
       "    .colab-df-convert {\n",
       "      background-color: #E8F0FE;\n",
       "      border: none;\n",
       "      border-radius: 50%;\n",
       "      cursor: pointer;\n",
       "      display: none;\n",
       "      fill: #1967D2;\n",
       "      height: 32px;\n",
       "      padding: 0 0 0 0;\n",
       "      width: 32px;\n",
       "    }\n",
       "\n",
       "    .colab-df-convert:hover {\n",
       "      background-color: #E2EBFA;\n",
       "      box-shadow: 0px 1px 2px rgba(60, 64, 67, 0.3), 0px 1px 3px 1px rgba(60, 64, 67, 0.15);\n",
       "      fill: #174EA6;\n",
       "    }\n",
       "\n",
       "    .colab-df-buttons div {\n",
       "      margin-bottom: 4px;\n",
       "    }\n",
       "\n",
       "    [theme=dark] .colab-df-convert {\n",
       "      background-color: #3B4455;\n",
       "      fill: #D2E3FC;\n",
       "    }\n",
       "\n",
       "    [theme=dark] .colab-df-convert:hover {\n",
       "      background-color: #434B5C;\n",
       "      box-shadow: 0px 1px 3px 1px rgba(0, 0, 0, 0.15);\n",
       "      filter: drop-shadow(0px 1px 2px rgba(0, 0, 0, 0.3));\n",
       "      fill: #FFFFFF;\n",
       "    }\n",
       "  </style>\n",
       "\n",
       "    <script>\n",
       "      const buttonEl =\n",
       "        document.querySelector('#df-415353ca-605a-4328-a132-1df9fd1be572 button.colab-df-convert');\n",
       "      buttonEl.style.display =\n",
       "        google.colab.kernel.accessAllowed ? 'block' : 'none';\n",
       "\n",
       "      async function convertToInteractive(key) {\n",
       "        const element = document.querySelector('#df-415353ca-605a-4328-a132-1df9fd1be572');\n",
       "        const dataTable =\n",
       "          await google.colab.kernel.invokeFunction('convertToInteractive',\n",
       "                                                    [key], {});\n",
       "        if (!dataTable) return;\n",
       "\n",
       "        const docLinkHtml = 'Like what you see? Visit the ' +\n",
       "          '<a target=\"_blank\" href=https://colab.research.google.com/notebooks/data_table.ipynb>data table notebook</a>'\n",
       "          + ' to learn more about interactive tables.';\n",
       "        element.innerHTML = '';\n",
       "        dataTable['output_type'] = 'display_data';\n",
       "        await google.colab.output.renderOutput(dataTable, element);\n",
       "        const docLink = document.createElement('div');\n",
       "        docLink.innerHTML = docLinkHtml;\n",
       "        element.appendChild(docLink);\n",
       "      }\n",
       "    </script>\n",
       "  </div>\n",
       "\n",
       "\n",
       "<div id=\"df-dd2bc3c8-14d2-4c1e-a404-3969526d86e6\">\n",
       "  <button class=\"colab-df-quickchart\" onclick=\"quickchart('df-dd2bc3c8-14d2-4c1e-a404-3969526d86e6')\"\n",
       "            title=\"Suggest charts.\"\n",
       "            style=\"display:none;\">\n",
       "\n",
       "<svg xmlns=\"http://www.w3.org/2000/svg\" height=\"24px\"viewBox=\"0 0 24 24\"\n",
       "     width=\"24px\">\n",
       "    <g>\n",
       "        <path d=\"M19 3H5c-1.1 0-2 .9-2 2v14c0 1.1.9 2 2 2h14c1.1 0 2-.9 2-2V5c0-1.1-.9-2-2-2zM9 17H7v-7h2v7zm4 0h-2V7h2v10zm4 0h-2v-4h2v4z\"/>\n",
       "    </g>\n",
       "</svg>\n",
       "  </button>\n",
       "\n",
       "<style>\n",
       "  .colab-df-quickchart {\n",
       "    background-color: #E8F0FE;\n",
       "    border: none;\n",
       "    border-radius: 50%;\n",
       "    cursor: pointer;\n",
       "    display: none;\n",
       "    fill: #1967D2;\n",
       "    height: 32px;\n",
       "    padding: 0 0 0 0;\n",
       "    width: 32px;\n",
       "  }\n",
       "\n",
       "  .colab-df-quickchart:hover {\n",
       "    background-color: #E2EBFA;\n",
       "    box-shadow: 0px 1px 2px rgba(60, 64, 67, 0.3), 0px 1px 3px 1px rgba(60, 64, 67, 0.15);\n",
       "    fill: #174EA6;\n",
       "  }\n",
       "\n",
       "  [theme=dark] .colab-df-quickchart {\n",
       "    background-color: #3B4455;\n",
       "    fill: #D2E3FC;\n",
       "  }\n",
       "\n",
       "  [theme=dark] .colab-df-quickchart:hover {\n",
       "    background-color: #434B5C;\n",
       "    box-shadow: 0px 1px 3px 1px rgba(0, 0, 0, 0.15);\n",
       "    filter: drop-shadow(0px 1px 2px rgba(0, 0, 0, 0.3));\n",
       "    fill: #FFFFFF;\n",
       "  }\n",
       "</style>\n",
       "\n",
       "  <script>\n",
       "    async function quickchart(key) {\n",
       "      const charts = await google.colab.kernel.invokeFunction(\n",
       "          'suggestCharts', [key], {});\n",
       "    }\n",
       "    (() => {\n",
       "      let quickchartButtonEl =\n",
       "        document.querySelector('#df-dd2bc3c8-14d2-4c1e-a404-3969526d86e6 button');\n",
       "      quickchartButtonEl.style.display =\n",
       "        google.colab.kernel.accessAllowed ? 'block' : 'none';\n",
       "    })();\n",
       "  </script>\n",
       "</div>\n",
       "    </div>\n",
       "  </div>\n"
      ],
      "text/plain": [
       "       Id      Class\n",
       "0    8560     Benign\n",
       "1    7920     Benign\n",
       "2    8993  Malignant\n",
       "3    8126     Normal\n",
       "4    9912     Benign\n",
       "..    ...        ...\n",
       "224  8343  Malignant\n",
       "225  1255     Benign\n",
       "226  4573     Benign\n",
       "227  3919     Benign\n",
       "228  3249     Benign\n",
       "\n",
       "[229 rows x 2 columns]"
      ]
     },
     "execution_count": 34,
     "metadata": {},
     "output_type": "execute_result"
    }
   ],
   "source": [
    "submit['Id'] = test['Id']\n",
    "submit['Class'] =predictions # our model predictions on the test dataset\n",
    "submit"
   ]
  },
  {
   "cell_type": "code",
   "execution_count": 35,
   "metadata": {
    "id": "PTuTP8ymhLn7"
   },
   "outputs": [],
   "source": [
    "submit.to_csv('sample_submission_fatima5.csv', index=False)"
   ]
  },
  {
   "cell_type": "markdown",
   "metadata": {
    "id": "RQ2K3pXvmEp4"
   },
   "source": [
    "# **Other Models**"
   ]
  },
  {
   "cell_type": "markdown",
   "metadata": {
    "id": "V4kMz7wEmJre"
   },
   "source": [
    "## KNN"
   ]
  },
  {
   "cell_type": "code",
   "execution_count": null,
   "metadata": {
    "colab": {
     "base_uri": "https://localhost:8080/"
    },
    "id": "GtV7t5sUmH3P",
    "outputId": "ab6fd3b7-ad71-4005-b597-e5d4bc84e320"
   },
   "outputs": [
    {
     "name": "stdout",
     "output_type": "stream",
     "text": [
      "Accuracy1: 0.8955916473317865\n",
      "Accuracy2: 0.5925925925925926\n",
      "Confusion Matrix1:\n",
      " [[243   0   0]\n",
      " [ 19  99   0]\n",
      " [ 17   9  44]]\n",
      "Confusion Matrix2:\n",
      " [[45  7  5]\n",
      " [13 13  4]\n",
      " [10  5  6]]\n",
      "Classification Report1:\n",
      "               precision    recall  f1-score   support\n",
      "\n",
      "      Benign       0.87      1.00      0.93       243\n",
      "   Malignant       0.92      0.84      0.88       118\n",
      "      Normal       1.00      0.63      0.77        70\n",
      "\n",
      "    accuracy                           0.90       431\n",
      "   macro avg       0.93      0.82      0.86       431\n",
      "weighted avg       0.90      0.90      0.89       431\n",
      "\n",
      "Classification Report2:\n",
      "               precision    recall  f1-score   support\n",
      "\n",
      "      Benign       0.66      0.79      0.72        57\n",
      "   Malignant       0.52      0.43      0.47        30\n",
      "      Normal       0.40      0.29      0.33        21\n",
      "\n",
      "    accuracy                           0.59       108\n",
      "   macro avg       0.53      0.50      0.51       108\n",
      "weighted avg       0.57      0.59      0.58       108\n",
      "\n"
     ]
    }
   ],
   "source": [
    "from sklearn.neighbors import KNeighborsClassifier\n",
    "\n",
    "\n",
    "\n",
    "# Create a k-NN classifier\n",
    "knn_classifier = KNeighborsClassifier(n_neighbors=2)  # You can adjust the number of neighbors\n",
    "\n",
    "# Assuming you have X_train_pca, y_train, X_val_pca, y_val\n",
    "# Train the k-NN classifier\n",
    "knn_classifier.fit(X_train_pca, y_train)\n",
    "\n",
    "# Make predictions\n",
    "y_pred1 = knn_classifier.predict(X_train_pca)\n",
    "y_pred2 = knn_classifier.predict(X_val_pca)\n",
    "\n",
    "# Calculate accuracy\n",
    "accuracy1 = accuracy_score(y_train, y_pred1)\n",
    "accuracy2 = accuracy_score(y_val, y_pred2)\n",
    "print(\"Accuracy1:\", accuracy1)\n",
    "print(\"Accuracy2:\", accuracy2)\n",
    "\n",
    "# Calculate confusion matrix\n",
    "conf_matrix1 = confusion_matrix(y_train, y_pred1)\n",
    "conf_matrix2 = confusion_matrix(y_val, y_pred2)\n",
    "print(\"Confusion Matrix1:\\n\", conf_matrix1)\n",
    "print(\"Confusion Matrix2:\\n\", conf_matrix2)\n",
    "\n",
    "# Generate classification report\n",
    "class_report1 = classification_report(y_train, y_pred1)\n",
    "class_report2 = classification_report(y_val, y_pred2)\n",
    "print(\"Classification Report1:\\n\", class_report1)\n",
    "print(\"Classification Report2:\\n\", class_report2)\n"
   ]
  },
  {
   "cell_type": "markdown",
   "metadata": {
    "id": "YecfMUaPqDxl"
   },
   "source": [
    "## DT"
   ]
  },
  {
   "cell_type": "code",
   "execution_count": null,
   "metadata": {
    "colab": {
     "base_uri": "https://localhost:8080/"
    },
    "id": "OA6mkQZUp1eS",
    "outputId": "855699aa-8fd8-4d77-9613-59a591bb9eac"
   },
   "outputs": [
    {
     "name": "stdout",
     "output_type": "stream",
     "text": [
      "Accuracy1: 1.0\n",
      "Accuracy2: 0.4444444444444444\n",
      "Confusion Matrix1:\n",
      " [[243   0   0]\n",
      " [  0 118   0]\n",
      " [  0   0  70]]\n",
      "Confusion Matrix2:\n",
      " [[38 14  5]\n",
      " [19  8  3]\n",
      " [17  2  2]]\n",
      "Classification Report1:\n",
      "               precision    recall  f1-score   support\n",
      "\n",
      "      Benign       1.00      1.00      1.00       243\n",
      "   Malignant       1.00      1.00      1.00       118\n",
      "      Normal       1.00      1.00      1.00        70\n",
      "\n",
      "    accuracy                           1.00       431\n",
      "   macro avg       1.00      1.00      1.00       431\n",
      "weighted avg       1.00      1.00      1.00       431\n",
      "\n",
      "Classification Report2:\n",
      "               precision    recall  f1-score   support\n",
      "\n",
      "      Benign       0.51      0.67      0.58        57\n",
      "   Malignant       0.33      0.27      0.30        30\n",
      "      Normal       0.20      0.10      0.13        21\n",
      "\n",
      "    accuracy                           0.44       108\n",
      "   macro avg       0.35      0.34      0.34       108\n",
      "weighted avg       0.40      0.44      0.41       108\n",
      "\n"
     ]
    }
   ],
   "source": [
    "from sklearn.tree import DecisionTreeClassifier\n",
    "\n",
    "# Create a Decision Tree classifier\n",
    "decision_tree_classifier = DecisionTreeClassifier(\n",
    "                                                   random_state=14,\n",
    "                                                )  # You can adjust random_state if needed\n",
    "\n",
    "# Assuming you have X_train_pca, y_train, X_val_pca, y_val\n",
    "# Train the Decision Tree classifier\n",
    "decision_tree_classifier.fit(X_train_pca, y_train)\n",
    "\n",
    "# Make predictions\n",
    "y_pred1 = decision_tree_classifier.predict(X_train_pca)\n",
    "y_pred2 = decision_tree_classifier.predict(X_val_pca)\n",
    "\n",
    "# Calculate accuracy\n",
    "accuracy1 = accuracy_score(y_train, y_pred1)\n",
    "accuracy2 = accuracy_score(y_val, y_pred2)\n",
    "print(\"Accuracy1:\", accuracy1)\n",
    "print(\"Accuracy2:\", accuracy2)\n",
    "\n",
    "# Calculate confusion matrix\n",
    "conf_matrix1 = confusion_matrix(y_train, y_pred1)\n",
    "conf_matrix2 = confusion_matrix(y_val, y_pred2)\n",
    "print(\"Confusion Matrix1:\\n\", conf_matrix1)\n",
    "print(\"Confusion Matrix2:\\n\", conf_matrix2)\n",
    "\n",
    "# Generate classification report\n",
    "class_report1 = classification_report(y_train, y_pred1)\n",
    "class_report2 = classification_report(y_val, y_pred2)\n",
    "print(\"Classification Report1:\\n\", class_report1)\n",
    "print(\"Classification Report2:\\n\", class_report2)\n"
   ]
  },
  {
   "cell_type": "markdown",
   "metadata": {
    "id": "YBWMO8J_r0_c"
   },
   "source": [
    "# RF"
   ]
  },
  {
   "cell_type": "code",
   "execution_count": null,
   "metadata": {
    "colab": {
     "base_uri": "https://localhost:8080/"
    },
    "id": "DbNxD7worzGe",
    "outputId": "73b45a88-63f4-4503-da4f-650d6acb81d7"
   },
   "outputs": [
    {
     "name": "stdout",
     "output_type": "stream",
     "text": [
      "Accuracy1: 0.9976798143851509\n",
      "Accuracy2: 0.5370370370370371\n",
      "Confusion Matrix1:\n",
      " [[243   0   0]\n",
      " [  1 117   0]\n",
      " [  0   0  70]]\n",
      "Confusion Matrix2:\n",
      " [[57  0  0]\n",
      " [30  0  0]\n",
      " [20  0  1]]\n",
      "Classification Report1:\n",
      "               precision    recall  f1-score   support\n",
      "\n",
      "      Benign       1.00      1.00      1.00       243\n",
      "   Malignant       1.00      0.99      1.00       118\n",
      "      Normal       1.00      1.00      1.00        70\n",
      "\n",
      "    accuracy                           1.00       431\n",
      "   macro avg       1.00      1.00      1.00       431\n",
      "weighted avg       1.00      1.00      1.00       431\n",
      "\n",
      "Classification Report2:\n",
      "               precision    recall  f1-score   support\n",
      "\n",
      "      Benign       0.53      1.00      0.70        57\n",
      "   Malignant       0.00      0.00      0.00        30\n",
      "      Normal       1.00      0.05      0.09        21\n",
      "\n",
      "    accuracy                           0.54       108\n",
      "   macro avg       0.51      0.35      0.26       108\n",
      "weighted avg       0.48      0.54      0.38       108\n",
      "\n"
     ]
    },
    {
     "name": "stderr",
     "output_type": "stream",
     "text": [
      "/usr/local/lib/python3.10/dist-packages/sklearn/metrics/_classification.py:1344: UndefinedMetricWarning: Precision and F-score are ill-defined and being set to 0.0 in labels with no predicted samples. Use `zero_division` parameter to control this behavior.\n",
      "  _warn_prf(average, modifier, msg_start, len(result))\n",
      "/usr/local/lib/python3.10/dist-packages/sklearn/metrics/_classification.py:1344: UndefinedMetricWarning: Precision and F-score are ill-defined and being set to 0.0 in labels with no predicted samples. Use `zero_division` parameter to control this behavior.\n",
      "  _warn_prf(average, modifier, msg_start, len(result))\n",
      "/usr/local/lib/python3.10/dist-packages/sklearn/metrics/_classification.py:1344: UndefinedMetricWarning: Precision and F-score are ill-defined and being set to 0.0 in labels with no predicted samples. Use `zero_division` parameter to control this behavior.\n",
      "  _warn_prf(average, modifier, msg_start, len(result))\n"
     ]
    }
   ],
   "source": [
    "from sklearn.ensemble import RandomForestClassifier\n",
    "\n",
    "# Create a Random Forest classifier\n",
    "random_forest_classifier = RandomForestClassifier(n_estimators=100, random_state=100,max_depth=20,\n",
    "                                                  min_samples_split=2, min_samples_leaf=1,\n",
    "                                                  min_weight_fraction_leaf=0.0, max_features='sqrt',\n",
    "                                                  max_leaf_nodes=None, min_impurity_decrease=0.0,\n",
    "                                                  bootstrap=True, oob_score=False, n_jobs=None,\n",
    "                                                  verbose=0, warm_start=False,\n",
    "                                                  class_weight={'Normal':4, 'Malignant':2}, ccp_alpha=0.0, max_samples=0.5)\n",
    "# You can adjust n_estimators and other hyperparameters\n",
    "\n",
    "# Assuming you have X_train_pca, y_train, X_val_pca, y_val\n",
    "# Train the Random Forest classifier\n",
    "random_forest_classifier.fit(X_train_pca, y_train)\n",
    "\n",
    "# Make predictions\n",
    "y_pred1 = random_forest_classifier.predict(X_train_pca)\n",
    "y_pred2 = random_forest_classifier.predict(X_val_pca)\n",
    "\n",
    "# Calculate accuracy\n",
    "accuracy1 = accuracy_score(y_train, y_pred1)\n",
    "accuracy2 = accuracy_score(y_val, y_pred2)\n",
    "print(\"Accuracy1:\", accuracy1)\n",
    "print(\"Accuracy2:\", accuracy2)\n",
    "\n",
    "# Calculate confusion matrix\n",
    "conf_matrix1 = confusion_matrix(y_train, y_pred1)\n",
    "conf_matrix2 = confusion_matrix(y_val, y_pred2)\n",
    "print(\"Confusion Matrix1:\\n\", conf_matrix1)\n",
    "print(\"Confusion Matrix2:\\n\", conf_matrix2)\n",
    "\n",
    "# Generate classification report\n",
    "class_report1 = classification_report(y_train, y_pred1)\n",
    "class_report2 = classification_report(y_val, y_pred2)\n",
    "print(\"Classification Report1:\\n\", class_report1)\n",
    "print(\"Classification Report2:\\n\", class_report2)\n"
   ]
  },
  {
   "cell_type": "markdown",
   "metadata": {
    "id": "1GqdYqNDs-v2"
   },
   "source": [
    "# Extra Tree"
   ]
  },
  {
   "cell_type": "code",
   "execution_count": null,
   "metadata": {
    "colab": {
     "base_uri": "https://localhost:8080/"
    },
    "id": "uRPmCVFCqQ9r",
    "outputId": "4207397b-4807-447f-b2f0-d4d5a2280e57"
   },
   "outputs": [
    {
     "name": "stdout",
     "output_type": "stream",
     "text": [
      "Accuracy1: 1.0\n",
      "Accuracy2: 0.5370370370370371\n",
      "Confusion Matrix1:\n",
      " [[243   0   0]\n",
      " [  0 118   0]\n",
      " [  0   0  70]]\n",
      "Confusion Matrix2:\n",
      " [[56  0  1]\n",
      " [30  0  0]\n",
      " [19  0  2]]\n",
      "Classification Report1:\n",
      "               precision    recall  f1-score   support\n",
      "\n",
      "      Benign       1.00      1.00      1.00       243\n",
      "   Malignant       1.00      1.00      1.00       118\n",
      "      Normal       1.00      1.00      1.00        70\n",
      "\n",
      "    accuracy                           1.00       431\n",
      "   macro avg       1.00      1.00      1.00       431\n",
      "weighted avg       1.00      1.00      1.00       431\n",
      "\n",
      "Classification Report2:\n",
      "               precision    recall  f1-score   support\n",
      "\n",
      "      Benign       0.53      0.98      0.69        57\n",
      "   Malignant       0.00      0.00      0.00        30\n",
      "      Normal       0.67      0.10      0.17        21\n",
      "\n",
      "    accuracy                           0.54       108\n",
      "   macro avg       0.40      0.36      0.29       108\n",
      "weighted avg       0.41      0.54      0.40       108\n",
      "\n"
     ]
    },
    {
     "name": "stderr",
     "output_type": "stream",
     "text": [
      "/usr/local/lib/python3.10/dist-packages/sklearn/metrics/_classification.py:1344: UndefinedMetricWarning: Precision and F-score are ill-defined and being set to 0.0 in labels with no predicted samples. Use `zero_division` parameter to control this behavior.\n",
      "  _warn_prf(average, modifier, msg_start, len(result))\n",
      "/usr/local/lib/python3.10/dist-packages/sklearn/metrics/_classification.py:1344: UndefinedMetricWarning: Precision and F-score are ill-defined and being set to 0.0 in labels with no predicted samples. Use `zero_division` parameter to control this behavior.\n",
      "  _warn_prf(average, modifier, msg_start, len(result))\n",
      "/usr/local/lib/python3.10/dist-packages/sklearn/metrics/_classification.py:1344: UndefinedMetricWarning: Precision and F-score are ill-defined and being set to 0.0 in labels with no predicted samples. Use `zero_division` parameter to control this behavior.\n",
      "  _warn_prf(average, modifier, msg_start, len(result))\n"
     ]
    }
   ],
   "source": [
    "from sklearn.ensemble import ExtraTreesClassifier\n",
    "from sklearn.metrics import accuracy_score, confusion_matrix, classification_report\n",
    "import numpy as np\n",
    "\n",
    "# Create an Extra Trees classifier\n",
    "extra_trees_classifier = ExtraTreesClassifier(n_estimators=100, random_state=42)\n",
    "# You can adjust n_estimators and other hyperparameters\n",
    "\n",
    "# Assuming you have X_train_pca, y_train, X_val_pca, y_val\n",
    "# Train the Extra Trees classifier\n",
    "extra_trees_classifier.fit(X_train_pca, y_train)\n",
    "\n",
    "# Make predictions\n",
    "y_pred1 = extra_trees_classifier.predict(X_train_pca)\n",
    "y_pred2 = extra_trees_classifier.predict(X_val_pca)\n",
    "\n",
    "# Calculate accuracy\n",
    "accuracy1 = accuracy_score(y_train, y_pred1)\n",
    "accuracy2 = accuracy_score(y_val, y_pred2)\n",
    "print(\"Accuracy1:\", accuracy1)\n",
    "print(\"Accuracy2:\", accuracy2)\n",
    "\n",
    "# Calculate confusion matrix\n",
    "conf_matrix1 = confusion_matrix(y_train, y_pred1)\n",
    "conf_matrix2 = confusion_matrix(y_val, y_pred2)\n",
    "print(\"Confusion Matrix1:\\n\", conf_matrix1)\n",
    "print(\"Confusion Matrix2:\\n\", conf_matrix2)\n",
    "\n",
    "# Generate classification report\n",
    "class_report1 = classification_report(y_train, y_pred1)\n",
    "class_report2 = classification_report(y_val, y_pred2)\n",
    "print(\"Classification Report1:\\n\", class_report1)\n",
    "print(\"Classification Report2:\\n\", class_report2)\n"
   ]
  },
  {
   "cell_type": "code",
   "execution_count": null,
   "metadata": {
    "id": "Y-c5j7RGtO32"
   },
   "outputs": [],
   "source": []
  }
 ],
 "metadata": {
  "accelerator": "TPU",
  "colab": {
   "provenance": []
  },
  "kernelspec": {
   "display_name": "Python 3 (ipykernel)",
   "language": "python",
   "name": "python3"
  },
  "language_info": {
   "codemirror_mode": {
    "name": "ipython",
    "version": 3
   },
   "file_extension": ".py",
   "mimetype": "text/x-python",
   "name": "python",
   "nbconvert_exporter": "python",
   "pygments_lexer": "ipython3",
   "version": "3.9.7"
  }
 },
 "nbformat": 4,
 "nbformat_minor": 1
}
